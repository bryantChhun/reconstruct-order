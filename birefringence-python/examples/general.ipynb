{
 "cells": [
  {
   "cell_type": "code",
   "execution_count": null,
   "metadata": {},
   "outputs": [],
   "source": [
    "\"\"\"\n",
    "Reconstruct retardance and orientation maps from images taken with different polarized illumination output\n",
    "by Open PolScope. This script using the 4- or 5-frame reconstruction algorithm described in Michael Shribak and \n",
    "Rudolf Oldenbourg, 2003.\n",
    "\n",
    "by Syuan-Ming Guo @ CZ Biohub 2018.3.30 \n",
    "\"\"\""
   ]
  },
  {
   "cell_type": "code",
   "execution_count": null,
   "metadata": {},
   "outputs": [],
   "source": [
    "import os\n",
    "import numpy as np\n",
    "import glob\n",
    "import seaborn as sns\n",
    "import matplotlib.pyplot as plt\n",
    "import re\n",
    "import cv2\n",
    "import bisect\n",
    "from mpl_toolkits.axes_grid1 import make_axes_locatable\n",
    "from matplotlib.widgets  import RectangleSelector\n",
    "import warnings\n",
    "sns.set_context(\"poster\")\n",
    "plt.close(\"all\") # close all the figures from the last run"
   ]
  },
  {
   "cell_type": "code",
   "execution_count": null,
   "metadata": {},
   "outputs": [],
   "source": [
    "def processImg(ImgSmPath, ImgBgPath, Chi):\n",
    "    Abg, Bbg, IAbsBg, DAPIBg, TdTomatoBg = findBackground(ImgSmPath, ImgBgPath, Chi) # find background tile\n",
    "    loopPos(ImgSmPath, Chi, Abg, Bbg, IAbsBg, DAPIBg, TdTomatoBg)"
   ]
  },
  {
   "cell_type": "code",
   "execution_count": null,
   "metadata": {},
   "outputs": [],
   "source": [
    "#%%\n",
    "\n",
    "figPath = 'C:/Google Drive/Python/figures/'   # change 'fig_path' to the desired figure output path.\n",
    "#ImgSmPath = 'C:/Google Drive/20180314_GreenbergLabBrainSlice/SM_2018_0314_1550_1' # Sample image folder path\n",
    "#ImgBgPath = 'C:/Google Drive/20180314_GreenbergLabBrainSlice/BG_2018_0314_1548_1' # Background image folder path\n",
    "#ImgSmPath = 'C:/Google Drive/20180314_GreenbergLabBrainSlice/SM_2018_0314_1558_1' # Sample image folder path\n",
    "#ImgBgPath = 'C:/Google Drive/20180314_GreenbergLabBrainSlice/BG_2018_0314_1555_1' # Background image folder path\n",
    "#ImgSmPath = 'C:/Google Drive/20180328_GreenbergLabBrainSlice/SM_2018_0328_1418_1' # Sample image folder path\n",
    "#ImgBgPath = 'C:/Google Drive/20180328_GreenbergLabBrainSlice/BG_2018_0328_1338_1' # Background image folder path\n",
    "#ImgSmPath = 'C:/Google Drive/2018_04_02_Grinberg_Slice484_4x20x/SM_2018_0402_1325_1' # Sample image folder path\n",
    "#ImgBgPath = 'C:/Google Drive/2018_04_02_Grinberg_Slice484_4x20x/BG_2018_0402_1312_1' # Background image folder path\n",
    "#ImgSmPath = 'C:/Google Drive/2018_04_02_Grinberg_Slice484_4x20x/SM_2018_0402_1256_1' # Sample image folder path\n",
    "#ImgBgPath = 'C:/Google Drive/2018_04_02_Grinberg_Slice484_4x20x/BG_2018_0402_1246_1' # Background image folder path\n",
    "#ImgSmPath = 'C:/Google Drive/2018_04_04_UstainedTissue_4x/SM_2018_0404_1816_1' # Sample image folder path\n",
    "#ImgSmPath = 'C:/Google Drive/2018_04_04_UstainedTissue_4x/SM_2018_0404_1817_1' # Sample image folder path\n",
    "#ImgBgPath = 'C:/Google Drive/2018_04_04_UstainedTissue_4x/BG_2018_0404_1811_1' # Background image folder path\n",
    "#ImgSmPath = 'C:/Google Drive/2018_04_12_U2OSCells63x1.2/SM_2018_0412_1731_1' # Sample image folder path\n",
    "#ImgBgPath = 'C:/Google Drive/2018_04_12_U2OSCells63x1.2/BG_2018_0412_1726_1' # Background image folder path\n",
    "#ImgSmPath = 'C:/Google Drive/2018_04_12_U2OSCells63x1.2/SMS_2018_0412_1735_1' # Sample image folder path\n",
    "#ImgBgPath = 'C:/Google Drive/2018_04_12_U2OSCells63x1.2/BG_2018_0412_1726_1' # Background image folder path\n",
    "#ImgSmPath = 'C:/Google Drive/2018_04_18_mus_anterior_1/SM_2018_0418_1753_1' # Sample image folder path\n",
    "#ImgBgPath = 'C:/Google Drive/2018_04_18_mus_anterior_1/BG_2018_0418_1751_1' # Background image folder path\n",
    "#ImgSmPath = 'C:/Google Drive/2018_04_16_unstained_brain_slice/SMS_2018_0416_1825_1' # Sample image folder path\n",
    "#ImgBgPath = 'C:/Google Drive/2018_04_16_unstained_brain_slice/BG_2018_0416_1745_1' # Background image folder path\n",
    "#ImgSmPath = 'C:/Google Drive/NikonSmallWorld/someone/2018_04_25_Testing/SMS_2018_0425_1654_1' # Sample image folder path\n",
    "#ImgBgPath = 'C:/Google Drive/NikonSmallWorld/someone/2018_04_25_Testing/BG_2018_0425_1649_1' # Background image folder path\n",
    "#ImgSmPath = 'C:/Google Drive/20180530_gutCells/SM_2018_0530_1623_1' # Sample image folder path\n",
    "#ImgBgPath = 'C:/Google Drive/20180530_gutCells/BG_2018_0530_1621_1' # Background image folder path\n",
    "ImgSmPath = 'C:/Google Drive/20180530_gutCells/SM_2018_0530_1812_1' # Sample image folder path\n",
    "ImgBgPath = 'C:/Google Drive/20180530_gutCells/BG_2018_0530_1707_1' # Background image folder path\n",
    "#ImgSmPath = 'C:/Google Drive/2018_05_09_KindneySection/SM_2018_0509_1804_1' # Sample image folder path\n",
    "#ImgBgPath = 'C:/Google Drive/2018_05_09_KindneySection/BG_2018_0509_1801_1' # Background image folder path\n",
    "Chi = 0.05 # Swing\n",
    "#pixsize = 0.624414 # (um) calibrated pixel size of confocal Zyla at 10X\n",
    "#pixsize = 0.624414 # (um) calibrated pixel size of confocal Zyla at 10X \n",
    "#spacing  = 10 # spacing for vector field map\n",
    "#%%\n",
    "processImg(ImgSmPath, ImgBgPath, Chi)"
   ]
  }
 ],
 "metadata": {
  "kernelspec": {
   "display_name": "Python 3",
   "language": "python",
   "name": "python3"
  },
  "language_info": {
   "codemirror_mode": {
    "name": "ipython",
    "version": 3
   },
   "file_extension": ".py",
   "mimetype": "text/x-python",
   "name": "python",
   "nbconvert_exporter": "python",
   "pygments_lexer": "ipython3",
   "version": "3.6.4"
  }
 },
 "nbformat": 4,
 "nbformat_minor": 2
}
