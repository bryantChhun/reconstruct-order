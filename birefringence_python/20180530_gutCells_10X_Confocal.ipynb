{
 "cells": [
  {
   "cell_type": "markdown",
   "metadata": {},
   "source": [
    "\"\"\"\n",
    "Reconstruct retardance and orientation maps from images taken with different polarized illumination output\n",
    "by Open PolScope. This script using the 4- or 5-frame reconstruction algorithm described in Michael Shribak and \n",
    "Rudolf Oldenbourg, 2003.\n",
    "\n",
    "by Syuan-Ming Guo @ CZ Biohub 2018.3.30 \n",
    "\"\"\""
   ]
  },
  {
   "cell_type": "code",
   "execution_count": 1,
   "metadata": {},
   "outputs": [],
   "source": [
    "%matplotlib inline\n",
    "from PolScope.multiPos import findBackground\n",
    "import seaborn as sns\n",
    "import os\n",
    "import numpy as np\n",
    "import matplotlib.pyplot as plt\n",
    "import re\n",
    "\n",
    "from utils.imgIO import GetSubDirName, ParseTiffInput\n",
    "from PolScope.reconstruct import computeAB, correctBackground, computeDeltaPhi\n",
    "from utils.plotting import plot_birefringence, plot_sub_images\n",
    "\n",
    "sns.set_context(\"poster\")"
   ]
  },
  {
   "cell_type": "code",
   "execution_count": 2,
   "metadata": {},
   "outputs": [],
   "source": [
    "def processImg(ImgSmPath, ImgBgPath, Chi, flatField=False):\n",
    "    Abg, Bbg, IAbsBg, DAPIBg, TdTomatoBg = findBackground(ImgSmPath, ImgBgPath, Chi,flatField=flatField) # find background tile\n",
    "    loopPos(ImgSmPath, Chi, Abg, Bbg, IAbsBg, DAPIBg, TdTomatoBg,flatField=flatField)\n",
    "\n",
    "def loopPos(ImgSmPath, Chi, Abg, Bbg, IAbsBg, DAPIBg, TdTomatoBg, flatField=False): \n",
    "#loop through each position in the acquistion folder, perform flat-field correction       \n",
    "    subDirName = GetSubDirName(ImgSmPath)           \n",
    "    ind = 0\n",
    "    for subDir in subDirName:\n",
    "        plt.close(\"all\") # close all the figures from the last run\n",
    "        acquDirPath = os.path.join(ImgSmPath, subDir) # only load the first acquisition for now  \n",
    "        if re.match( r'(\\d?)-?Pos_?(\\d+)_?(\\d?)', subDir, re.M|re.I):          \n",
    "            DAPI = np.array([])\n",
    "            TdTomato = np.array([])\n",
    "            ImgRawSm, retardMMSm, azimuthMMSm, ImgFluor = ParseTiffInput(acquDirPath)    \n",
    "            ASm, BSm, IAbsSm = computeAB(ImgRawSm, Chi)        \n",
    "            A, B = correctBackground(ASm,BSm,Abg,Bbg, ImgRawSm, extra=False)            \n",
    "            retard, azimuth = computeDeltaPhi(A,B)        \n",
    "            #retard = removeBubbles(retard)     # remove bright speckles in mounted brain slice images       \n",
    "            retardBg, azimuthBg = computeDeltaPhi(Abg, Bbg)\n",
    "            if ImgFluor.size:\n",
    "                DAPI = ImgFluor[:,:,0]\n",
    "                TdTomato = ImgFluor[:,:,1]\n",
    "            if flatField:\n",
    "                IAbsSm = IAbsSm/IAbsBg #flat-field correction \n",
    "                DAPI = DAPI/DAPIBg # #flat-field correction \n",
    "                TdTomato = TdTomato/TdTomatoBg  # #flat-field correction         \n",
    "                \n",
    "            titles = ['Retardance (MM)','Orientation (MM)','Retardance (Py)','Orientation (Py)']\n",
    "            images = [retardMMSm, azimuthMMSm,retard, azimuth]\n",
    "            plot_sub_images(images,titles)\n",
    "            plt.savefig(os.path.join(acquDirPath,'compare_MM_Py.png'),dpi=200)    \n",
    "            plot_birefringence(IAbsSm,retard, azimuth, acquDirPath, ind, DAPI=DAPI,\n",
    "                               TdTomato=TdTomato, spacing=6, vectorScl=0.5, zoomin=False, dpi=300)\n",
    "            figName = 'Transmission+Retardance+Orientation.png'\n",
    "            plt.savefig(os.path.join(acquDirPath, figName),dpi=300)\n",
    "            ind+=1       "
   ]
  },
  {
   "cell_type": "code",
   "execution_count": 3,
   "metadata": {},
   "outputs": [],
   "source": [
    "ImgSmPath = 'C:/Google Drive/20180530_gutCells/SM_2018_0530_1623_1' # Sample image folder path\n",
    "ImgBgPath = 'C:/Google Drive/20180530_gutCells/BG_2018_0530_1621_1' # Background image folder path\n",
    "Chi = 0.05 # Swing\n",
    "processImg(ImgSmPath, ImgBgPath, Chi, flatField=False)"
   ]
  }
 ],
 "metadata": {
  "kernelspec": {
   "display_name": "Python 3",
   "language": "python",
   "name": "python3"
  },
  "language_info": {
   "codemirror_mode": {
    "name": "ipython",
    "version": 3
   },
   "file_extension": ".py",
   "mimetype": "text/x-python",
   "name": "python",
   "nbconvert_exporter": "python",
   "pygments_lexer": "ipython3",
   "version": "3.6.4"
  }
 },
 "nbformat": 4,
 "nbformat_minor": 2
}
