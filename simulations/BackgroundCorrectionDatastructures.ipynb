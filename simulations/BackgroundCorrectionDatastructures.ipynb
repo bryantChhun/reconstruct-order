{
 "cells": [
  {
   "cell_type": "code",
   "execution_count": 3,
   "metadata": {
    "collapsed": true,
    "pycharm": {
     "is_executing": false
    }
   },
   "outputs": [],
   "source": [
    "from ReconstructOrder.compute.reconstruct import ImgReconstructor\n",
    "from ReconstructOrder.datastructures import PhysicalData\n",
    "from ReconstructOrder.datastructures.intensity_data import IntensityData\n",
    "import numpy as np\n",
    "import tifffile as tf\n",
    "import os\n",
    "\n",
    "%matplotlib inline\n",
    "%load_ext autoreload\n",
    "%autoreload 2\n",
    "import matplotlib.pyplot as plt\n",
    "plt.interactive(False)\n",
    "\n"
   ]
  },
  {
   "cell_type": "markdown",
   "source": [
    "## Assigning Intensity sample data"
   ],
   "metadata": {
    "collapsed": false,
    "pycharm": {
     "name": "#%% md\n",
     "is_executing": false
    }
   }
  },
  {
   "cell_type": "code",
   "execution_count": null,
   "outputs": [],
   "source": [
    "path_to_sample = \"\"\n",
    "\n",
    "int_dat = IntensityData()\n",
    "\n",
    "# if you want to call images by their channel name, assign channel names here\n",
    "int_dat.channel_names = ['IExt', 'I90', 'I135', 'I45', 'I0']\n",
    "\n",
    "int_dat.replace_image(tf.imread(os.path.join(path_to_sample, 'img_000000010_state0_002.tif')), \"IExt\")\n",
    "int_dat.replace_image(tf.imread(os.path.join(path_to_sample, 'img_000000010_state1_002.tif')), \"I90\")\n",
    "int_dat.replace_image(tf.imread(os.path.join(path_to_sample, 'img_000000010_state2_002.tif')), \"I135\")\n",
    "int_dat.replace_image(tf.imread(os.path.join(path_to_sample, 'img_000000010_state3_002.tif')), \"I45\")\n",
    "int_dat.replace_image(tf.imread(os.path.join(path_to_sample, 'img_000000010_state4_002.tif')), \"I0\")\n"
   ],
   "metadata": {
    "collapsed": false,
    "pycharm": {
     "name": "#%%\n"
    }
   }
  },
  {
   "cell_type": "markdown",
   "source": [
    "## Assigning Intensity Background data"
   ],
   "metadata": {
    "collapsed": false,
    "pycharm": {
     "name": "#%% md\n"
    }
   }
  },
  {
   "cell_type": "code",
   "execution_count": null,
   "outputs": [],
   "source": [
    "path_to_background = \"\"\n",
    "\n",
    "bg_int = IntensityData()\n",
    "bg_int.channel_names = ['IExt', 'I90', 'I135', 'I45', 'I0']\n",
    "\n",
    "int_dat.add_image(tf.imread(os.path.join(path_to_background, 'img_000000010_state0_002.tif')))\n",
    "int_dat.add_image(tf.imread(os.path.join(path_to_background, 'img_000000010_state1_002.tif')))\n",
    "int_dat.add_image(tf.imread(os.path.join(path_to_background, 'img_000000010_state2_002.tif')))\n",
    "int_dat.add_image(tf.imread(os.path.join(path_to_background, 'img_000000010_state3_002.tif')))\n",
    "int_dat.add_image(tf.imread(os.path.join(path_to_background, 'img_000000010_state4_002.tif')))"
   ],
   "metadata": {
    "collapsed": false,
    "pycharm": {
     "name": "#%%\n"
    }
   }
  },
  {
   "cell_type": "markdown",
   "source": [
    "## Compute background stokes, normalize it"
   ],
   "metadata": {
    "collapsed": false,
    "pycharm": {
     "name": "#%% md\n"
    }
   }
  },
  {
   "cell_type": "code",
   "execution_count": null,
   "outputs": [],
   "source": [
    "img_reconstructor = ImgReconstructor(bg_int.data.shape,\n",
    "                                     bg_method=\"Local_fit\",\n",
    "                                     n_slice_local_bg=1,\n",
    "                                     poly_fit_order=2,\n",
    "                                     swing=0.03,\n",
    "                                     wavelength=532,\n",
    "                                     azimuth_offset=0,\n",
    "                                     circularity='rcp')\n",
    "\n",
    "background_stokes = img_reconstructor.compute_stokes(bg_int)\n",
    "background_normalized = img_reconstructor.stokes_normalization(background_stokes)\n"
   ],
   "metadata": {
    "collapsed": false,
    "pycharm": {
     "name": "#%%\n"
    }
   }
  },
  {
   "cell_type": "markdown",
   "source": [
    "## Compute sample stokes, normalize it"
   ],
   "metadata": {
    "collapsed": false,
    "pycharm": {
     "name": "#%% md\n"
    }
   }
  },
  {
   "cell_type": "code",
   "execution_count": null,
   "outputs": [],
   "source": [
    "print('computing stokes')\n",
    "sample_stokes = img_reconstructor.compute_stokes(int_dat)\n",
    "sample_normalized = img_reconstructor.stokes_normalization(sample_stokes)\n"
   ],
   "metadata": {
    "collapsed": false,
    "pycharm": {
     "name": "#%%\n"
    }
   }
  },
  {
   "cell_type": "markdown",
   "source": [
    ">\n",
    ">### Correct for background using several methods\n"
   ],
   "metadata": {
    "collapsed": false,
    "pycharm": {
     "name": "#%% md\n"
    }
   }
  },
  {
   "cell_type": "code",
   "execution_count": null,
   "outputs": [],
   "source": [
    "# local_fit\n",
    "img_reconstructor.bg_method = \"Local_fit\"\n",
    "sample_bg_corrected_local_fit = img_reconstructor.correct_background(sample_normalized, background_normalized)\n",
    "\n",
    "# local_filter\n",
    "img_reconstructor.bg_method = \"Local_filter\"\n",
    "sample_bg_corrected_local_filter = img_reconstructor.correct_background(sample_normalized, background_normalized)\n",
    "\n",
    "# standard method\n",
    "img_reconstructor.bg_method = None\n",
    "sample_bg_corrected_global = img_reconstructor.correct_background(sample_normalized, background_normalized)\n"
   ],
   "metadata": {
    "collapsed": false,
    "pycharm": {
     "name": "#%%\n"
    }
   }
  },
  {
   "cell_type": "markdown",
   "source": [
    ">\n",
    ">### Compute physical\n"
   ],
   "metadata": {
    "collapsed": false,
    "pycharm": {
     "name": "#%% md\n"
    }
   }
  },
  {
   "cell_type": "code",
   "execution_count": null,
   "outputs": [],
   "source": [
    "sample_physical_local_fit = img_reconstructor.reconstruct_birefringence(sample_bg_corrected_local_fit)\n",
    "\n",
    "sample_physical_local_filter = img_reconstructor.reconstruct_birefringence(sample_bg_corrected_local_filter)\n",
    "\n",
    "sample_physical_global = img_reconstructor.reconstruct_birefringence(sample_bg_corrected_global)\n"
   ],
   "metadata": {
    "collapsed": false,
    "pycharm": {
     "name": "#%%\n"
    }
   }
  },
  {
   "cell_type": "markdown",
   "source": [
    "## Plot physical"
   ],
   "metadata": {
    "collapsed": false,
    "pycharm": {
     "name": "#%% md\n"
    }
   }
  },
  {
   "cell_type": "code",
   "execution_count": null,
   "outputs": [],
   "source": [
    "xyextent=[-1.5,1.5,-1.5,1.5]\n",
    "\n",
    "fig1 = plt.figure(figsize=(20,20)) # create a figure with the default size \n",
    "\n",
    "ax1 = fig1.add_subplot(2,2,1) \n",
    "im=plt.imshow(sample_physical_local_fit.retardance,cmap='gray',extent=xyextent, origin='lower');\n",
    "plt.title('retardance')\n",
    "ax1.figure.colorbar(im);\n",
    "\n",
    "ax2=fig1.add_subplot(2,2,2)\n",
    "im=plt.imshow(sample_physical_local_fit.slowaxis,cmap='twilight', extent=xyextent, origin='lower'); # Need to adapt this look up table to represent orientation.\n",
    "plt.title('slow axis')\n",
    "ax2.figure.colorbar(im);\n",
    "\n",
    "ax3=fig1.add_subplot(2,2,3)\n",
    "im=plt.imshow(sample_physical_local_fit.transmission,cmap='gray',extent=xyextent, origin='lower');\n",
    "plt.title('Brightfield_computed')\n",
    "ax3.figure.colorbar(im);\n",
    "\n",
    "ax4=fig1.add_subplot(2,2,4)\n",
    "im=plt.imshow(sample_physical_local_fit.polarization,cmap='gray',extent=xyextent, origin='lower', vmin=0.9, vmax=1.1);\n",
    "plt.title('polarization')\n",
    "ax4.figure.colorbar(im);\n"
   ],
   "metadata": {
    "collapsed": false,
    "pycharm": {
     "name": "#%%\n"
    }
   }
  },
  {
   "cell_type": "markdown",
   "source": [
    "## Plot normalized stokes"
   ],
   "metadata": {
    "collapsed": false,
    "pycharm": {
     "name": "#%% md\n"
    }
   }
  },
  {
   "cell_type": "code",
   "execution_count": null,
   "outputs": [],
   "source": [
    "fig2 = plt.figure(figsize=(20,20)) # create a figure with the default size \n",
    "\n",
    "ax1 = fig2.add_subplot(2,2,1) \n",
    "im=plt.imshow(sample_normalized.s0,cmap='gray',extent=xyextent, origin='lower');\n",
    "plt.title('s0')\n",
    "ax1.figure.colorbar(im);\n",
    "\n",
    "ax2=fig2.add_subplot(2,2,2)\n",
    "im=plt.imshow(sample_normalized.s1,cmap='gray',extent=xyextent, origin='lower'); # Need to adapt this look up table to represent orientation.\n",
    "plt.title('s1')\n",
    "ax2.figure.colorbar(im);\n",
    "\n",
    "ax3=fig2.add_subplot(2,2,3)\n",
    "im=plt.imshow(sample_normalized.s2,cmap='gray',extent=xyextent, origin='lower');\n",
    "plt.title('s2')\n",
    "ax3.figure.colorbar(im);\n",
    "\n",
    "ax4=fig2.add_subplot(2,2,4)\n",
    "im=plt.imshow(sample_normalized.s3,cmap='gray',extent=xyextent, origin='lower');\n",
    "plt.title('s3')\n",
    "ax4.figure.colorbar(im);"
   ],
   "metadata": {
    "collapsed": false,
    "pycharm": {
     "name": "#%%\n"
    }
   }
  }
 ],
 "metadata": {
  "language_info": {
   "codemirror_mode": {
    "name": "ipython",
    "version": 2
   },
   "file_extension": ".py",
   "mimetype": "text/x-python",
   "name": "python",
   "nbconvert_exporter": "python",
   "pygments_lexer": "ipython2",
   "version": "2.7.6"
  },
  "kernelspec": {
   "name": "python3",
   "language": "python",
   "display_name": "Python 3"
  },
  "pycharm": {
   "stem_cell": {
    "cell_type": "raw",
    "source": [],
    "metadata": {
     "collapsed": false
    }
   }
  }
 },
 "nbformat": 4,
 "nbformat_minor": 0
}